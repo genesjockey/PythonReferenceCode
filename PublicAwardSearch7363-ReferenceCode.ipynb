{
 "cells": [
  {
   "cell_type": "markdown",
   "metadata": {},
   "source": [
    "# Analyzing \"7363\" Data (Reference Code)\n",
    "Author: Nicholas Goldsmith <br>\n",
    "Start Date: 20 December 2022 <br>\n",
    "Last Updated: 20 December 2022"
   ]
  },
  {
   "cell_type": "markdown",
   "metadata": {},
   "source": [
    "## Purpose\n",
    "This is a Jupyter notebook with some basic analysis of public US government data. I am making this analysis as a means of keeping track of some common functions that I use in Python scripting. In other words, this is personal reference code and the analysis is intended for me to reference functions I am used to using. The point of this script is NOT to make a meaningful analysis of the utilized data. I would recommend https://beta.nsf.gov/about/about-nsf-by-the-numbers if you are interested in more informative analyses.\n",
    "<br><br> \n",
    "Disclaimer: The contents of this document do not necessarily represent the views of my employer nor the views of any organization I may be associated with. The contents of this document are meant to serve as a reference for me of Python functions and code chunks I want to remember, and potentially to be utilized as a way to add to my individual Python repetoire (eg. asking others how they might crunch a certain bit of data)."
   ]
  },
  {
   "cell_type": "markdown",
   "metadata": {},
   "source": [
    "## Libraries"
   ]
  },
  {
   "cell_type": "code",
   "execution_count": 1,
   "metadata": {},
   "outputs": [],
   "source": [
    "import pandas # The pandas package allows me to read in a csv and manipulate it as a dataframe\n",
    "import matplotlib.pyplot as plt # Package to help with some of the graphing."
   ]
  },
  {
   "cell_type": "markdown",
   "metadata": {},
   "source": [
    "## Data\n",
    "I am using publically available data. Using the public NSF Award Search (https://nsf.gov/awardsearch/advancedSearch.jsp), I've searched Element Code \"7363\" and included all active and expired awards. There are 2573 awards in the dataset."
   ]
  },
  {
   "cell_type": "code",
   "execution_count": 2,
   "metadata": {},
   "outputs": [],
   "source": [
    "Awards = pandas.read_excel(\"Awards-2022-12-20.xls\") # Reads in the data file"
   ]
  },
  {
   "cell_type": "code",
   "execution_count": 3,
   "metadata": {},
   "outputs": [
    {
     "name": "stdout",
     "output_type": "stream",
     "text": [
      "<class 'pandas.core.frame.DataFrame'>\n",
      "RangeIndex: 2573 entries, 0 to 2572\n",
      "Data columns (total 25 columns):\n",
      " #   Column                   Non-Null Count  Dtype \n",
      "---  ------                   --------------  ----- \n",
      " 0   AwardNumber              2573 non-null   int64 \n",
      " 1   Title                    2573 non-null   object\n",
      " 2   NSFOrganization          2573 non-null   object\n",
      " 3   Program(s)               2573 non-null   object\n",
      " 4   StartDate                2573 non-null   object\n",
      " 5   LastAmendmentDate        2573 non-null   object\n",
      " 6   PrincipalInvestigator    2568 non-null   object\n",
      " 7   State                    2573 non-null   object\n",
      " 8   Organization             2573 non-null   object\n",
      " 9   AwardInstrument          2573 non-null   object\n",
      " 10  ProgramManager           2573 non-null   object\n",
      " 11  EndDate                  2573 non-null   object\n",
      " 12  AwardedAmountToDate      2573 non-null   object\n",
      " 13  Co-PIName(s)             773 non-null    object\n",
      " 14  PIEmailAddress           2568 non-null   object\n",
      " 15  OrganizationStreet       2573 non-null   object\n",
      " 16  OrganizationCity         2573 non-null   object\n",
      " 17  OrganizationState        2573 non-null   object\n",
      " 18  OrganizationZip          2573 non-null   int64 \n",
      " 19  OrganizationPhone        2573 non-null   int64 \n",
      " 20  NSFDirectorate           2573 non-null   object\n",
      " 21  ProgramElementCode(s)    2573 non-null   object\n",
      " 22  ProgramReferenceCode(s)  2538 non-null   object\n",
      " 23  ARRAAmount               2573 non-null   object\n",
      " 24  Abstract                 2570 non-null   object\n",
      "dtypes: int64(3), object(22)\n",
      "memory usage: 502.7+ KB\n"
     ]
    }
   ],
   "source": [
    "Awards.info() # Gives the structure of the data"
   ]
  },
  {
   "cell_type": "markdown",
   "metadata": {},
   "source": [
    "### Data Quality Control"
   ]
  },
  {
   "cell_type": "code",
   "execution_count": 4,
   "metadata": {},
   "outputs": [
    {
     "data": {
      "text/plain": [
       "0             $0.00\n",
       "1             $0.00\n",
       "2             $0.00\n",
       "3             $0.00\n",
       "4             $0.00\n",
       "           ...     \n",
       "2568          $0.00\n",
       "2569          $0.00\n",
       "2570          $0.00\n",
       "2571          $0.00\n",
       "2572    $150,000.00\n",
       "Name: ARRAAmount, Length: 2573, dtype: object"
      ]
     },
     "execution_count": 4,
     "metadata": {},
     "output_type": "execute_result"
    }
   ],
   "source": [
    "# ARRAAmount appears to be stored as text rather than a number\n",
    "Awards[\"ARRAAmount\"]"
   ]
  },
  {
   "cell_type": "code",
   "execution_count": 5,
   "metadata": {},
   "outputs": [
    {
     "data": {
      "text/plain": [
       "0            0.00\n",
       "1            0.00\n",
       "2            0.00\n",
       "3            0.00\n",
       "4            0.00\n",
       "          ...    \n",
       "2568         0.00\n",
       "2569         0.00\n",
       "2570         0.00\n",
       "2571         0.00\n",
       "2572    150000.00\n",
       "Name: ARRAAmount, Length: 2573, dtype: object"
      ]
     },
     "execution_count": 5,
     "metadata": {},
     "output_type": "execute_result"
    }
   ],
   "source": [
    "# To fix this I will first need to remove the dollar signs\n",
    "Awards[\"ARRAAmount\"] = Awards[\"ARRAAmount\"].replace('\\$|,', '', regex=True)\n",
    "Awards[\"ARRAAmount\"]"
   ]
  },
  {
   "cell_type": "code",
   "execution_count": 6,
   "metadata": {},
   "outputs": [
    {
     "data": {
      "text/plain": [
       "0            0.0\n",
       "1            0.0\n",
       "2            0.0\n",
       "3            0.0\n",
       "4            0.0\n",
       "          ...   \n",
       "2568         0.0\n",
       "2569         0.0\n",
       "2570         0.0\n",
       "2571         0.0\n",
       "2572    150000.0\n",
       "Name: ARRAAmount, Length: 2573, dtype: float64"
      ]
     },
     "execution_count": 6,
     "metadata": {},
     "output_type": "execute_result"
    }
   ],
   "source": [
    "# Now I can convert it to a float\n",
    "Awards[\"ARRAAmount\"] = pandas.to_numeric(Awards[\"ARRAAmount\"])\n",
    "Awards[\"ARRAAmount\"]"
   ]
  },
  {
   "cell_type": "markdown",
   "metadata": {},
   "source": [
    "## ARRA\n",
    "First I want to make a subset for only those awards with ARRA funding, and then I can look at it some more"
   ]
  },
  {
   "cell_type": "code",
   "execution_count": 7,
   "metadata": {},
   "outputs": [],
   "source": [
    "ARRA = Awards[Awards[\"ARRAAmount\"] > 0] # Subsets all those where ARRA Amount is more than 0\n",
    "ARRA = ARRA.reset_index() # resets the index of the dataframe, which is useful if one wants to for-loop through it"
   ]
  },
  {
   "cell_type": "code",
   "execution_count": 8,
   "metadata": {},
   "outputs": [
    {
     "data": {
      "text/plain": [
       "70"
      ]
     },
     "execution_count": 8,
     "metadata": {},
     "output_type": "execute_result"
    }
   ],
   "source": [
    "len(ARRA['ARRAAmount']) # number of ARRA Awards"
   ]
  },
  {
   "cell_type": "code",
   "execution_count": 9,
   "metadata": {},
   "outputs": [
    {
     "data": {
      "text/plain": [
       "23983399.0"
      ]
     },
     "execution_count": 9,
     "metadata": {},
     "output_type": "execute_result"
    }
   ],
   "source": [
    "ARRA['ARRAAmount'].sum() # Total amount of ARRA Awards"
   ]
  },
  {
   "cell_type": "code",
   "execution_count": 10,
   "metadata": {},
   "outputs": [
    {
     "data": {
      "text/plain": [
       "342619.9857142857"
      ]
     },
     "execution_count": 10,
     "metadata": {},
     "output_type": "execute_result"
    }
   ],
   "source": [
    "ARRA['ARRAAmount'].mean() # Mean amount of ARRA funds used for ARRA awards"
   ]
  },
  {
   "cell_type": "code",
   "execution_count": 11,
   "metadata": {},
   "outputs": [
    {
     "data": {
      "text/plain": [
       "([], [])"
      ]
     },
     "execution_count": 11,
     "metadata": {},
     "output_type": "execute_result"
    },
    {
     "data": {
      "image/png": "[encoded data removed]",
      "text/plain": [
       "<Figure size 864x648 with 1 Axes>"
      ]
     },
     "metadata": {
      "needs_background": "light"
     },
     "output_type": "display_data"
    }
   ],
   "source": [
    "# Code to make a plot bigger\n",
    "plt.rcParams[\"figure.figsize\"] = 12, 9 # Makes the plot bigger\n",
    "plt.rcParams.update({'font.size' : 18}) # Makes the plot text bigger\n",
    "\n",
    "# Plot\n",
    "# Makes a bar plot of the ARRA amounts with the data sorted by size\n",
    "ARRA['ARRAAmount'].sort_values().plot.bar(use_index=False) \n",
    "plt.title(\"Distribution of ARRA Amounts for ARRA-Supported Awards\")\n",
    "plt.xlabel('Awards Ordered by ARRA Amount')\n",
    "plt.ylabel('ARRA Amount ($)')\n",
    "plt.xticks([],[])"
   ]
  },
  {
   "cell_type": "markdown",
   "metadata": {},
   "source": [
    "## States"
   ]
  },
  {
   "cell_type": "code",
   "execution_count": 12,
   "metadata": {},
   "outputs": [
    {
     "data": {
      "text/plain": [
       "State\n",
       "AL     18\n",
       "AR      2\n",
       "AZ     58\n",
       "CA    390\n",
       "CO     48\n",
       "CT     36\n",
       "DC     33\n",
       "DE      8\n",
       "FL     79\n",
       "GA     75\n",
       "HI      3\n",
       "IA     23\n",
       "ID      1\n",
       "IL    118\n",
       "IN     63\n",
       "KS     20\n",
       "KY      9\n",
       "LA     10\n",
       "MA    239\n",
       "MD     39\n",
       "MI     70\n",
       "MN     30\n",
       "MO     38\n",
       "MS      5\n",
       "MT      8\n",
       "NC     80\n",
       "ND      2\n",
       "NE     19\n",
       "NH      7\n",
       "NJ    124\n",
       "NM     11\n",
       "NV      7\n",
       "NY    191\n",
       "OH     66\n",
       "OK      6\n",
       "OR     27\n",
       "PA    165\n",
       "PR      1\n",
       "RI     11\n",
       "SC     20\n",
       "SD      4\n",
       "TN     30\n",
       "TX    168\n",
       "UT     16\n",
       "VA     98\n",
       "VT      1\n",
       "WA     43\n",
       "WI     53\n",
       "Name: AwardNumber, dtype: int64"
      ]
     },
     "execution_count": 12,
     "metadata": {},
     "output_type": "execute_result"
    }
   ],
   "source": [
    "Awards.groupby('State')['AwardNumber'].nunique() # Returns the number of unique Awards by State"
   ]
  },
  {
   "cell_type": "markdown",
   "metadata": {},
   "source": [
    "## Directorate and Program Element Code(s)\n",
    "This one is mostly just to show grouping by multiple things at once"
   ]
  },
  {
   "cell_type": "code",
   "execution_count": 13,
   "metadata": {},
   "outputs": [
    {
     "data": {
      "text/plain": [
       "NSFDirectorate  ProgramElementCode(s)                   \n",
       "CSE             005Y, 033Y, 7363                            1\n",
       "                018Y, 1640, 7363                            1\n",
       "                024F, 1688, 7363                            1\n",
       "                024F, 7363                                  2\n",
       "                024F, 7363, 7917                            1\n",
       "                                                           ..\n",
       "MPS             7363, 7564, 7976                            1\n",
       "O/D             1253, 7299, 7363                            2\n",
       "                7299, 7363                                  1\n",
       "SBE             1372, 7363                                  1\n",
       "                1640, 1714, 7354, 7363, 7603, 8060, 8078    1\n",
       "Name: AwardNumber, Length: 159, dtype: int64"
      ]
     },
     "execution_count": 13,
     "metadata": {},
     "output_type": "execute_result"
    }
   ],
   "source": [
    "Awards.groupby(['NSFDirectorate','ProgramElementCode(s)'])['AwardNumber'].nunique()"
   ]
  },
  {
   "cell_type": "markdown",
   "metadata": {},
   "source": [
    "## CAREER vs Non-CAREER by Year"
   ]
  },
  {
   "cell_type": "markdown",
   "metadata": {},
   "source": [
    "### Adding a Year Column"
   ]
  },
  {
   "cell_type": "code",
   "execution_count": 14,
   "metadata": {},
   "outputs": [],
   "source": [
    "Awards['Year'] = 0 # Creating a year column with all 0's\n",
    "\n",
    "# The below uses a for loop to go through every row. It takes the last four characters of\n",
    "# Start Date and calls them the year\n",
    "for i in range(0, len(Awards['AwardNumber'])):\n",
    "    Awards['Year'].at[i] = int(Awards['StartDate'][i][len(Awards['StartDate'][i])-4:])"
   ]
  },
  {
   "cell_type": "markdown",
   "metadata": {},
   "source": [
    "### Marking which awards are CAREERs"
   ]
  },
  {
   "cell_type": "code",
   "execution_count": 15,
   "metadata": {},
   "outputs": [],
   "source": [
    "# NSF Awards often have program information in the title\n",
    "# CAREER Awards /should/ have CAREER in their title\n",
    "# So I will make a substring to check if it is in the title\n",
    "substring = 'CAREER'\n",
    "# I'll create an empty array to add the information to\n",
    "IsCAREER = []\n",
    "\n",
    "for row in Awards['Title']: # Going through every Title\n",
    "    rowAllCaps = row.upper() # Make it all caps to capitalization doesn't affect equality\n",
    "    placeholder = False\n",
    "    if substring in rowAllCaps: # Check if the substring is in the Title\n",
    "        placeholder = True\n",
    "    IsCAREER.append(placeholder) # Add the result to the array\n",
    "\n",
    "Awards['IsCAREER'] = IsCAREER # Make the array a column in the dataframe"
   ]
  },
  {
   "cell_type": "markdown",
   "metadata": {},
   "source": [
    "### Plotting CAREER vs non-CAREER by Year"
   ]
  },
  {
   "cell_type": "code",
   "execution_count": 16,
   "metadata": {},
   "outputs": [
    {
     "data": {
      "text/plain": [
       "Text(0, 0.5, 'Number of Awards')"
      ]
     },
     "execution_count": 16,
     "metadata": {},
     "output_type": "execute_result"
    },
    {
     "data": {
      "image/png": "[encoded data removed]",
      "text/plain": [
       "<Figure size 864x648 with 1 Axes>"
      ]
     },
     "metadata": {
      "needs_background": "light"
     },
     "output_type": "display_data"
    }
   ],
   "source": [
    "# First we need the data of CAREERs and non-CAREERs by Year\n",
    "AwardsCAREER = Awards[Awards['IsCAREER']] # Subsetting the CAREERS\n",
    "CAREERAwardsByYear = AwardsCAREER.groupby('Year')['AwardNumber'].nunique()\n",
    "\n",
    "AwardsNotCAREER = Awards[Awards['IsCAREER']==False]\n",
    "NotCAREERAwardsByYear = AwardsNotCAREER.groupby('Year')['AwardNumber'].nunique()\n",
    "\n",
    "# Now make one dataset to plot from\n",
    "AwardsByYear = pandas.DataFrame({'CAREER' : CAREERAwardsByYear,\n",
    "                                'Non-CAREER' : NotCAREERAwardsByYear})\n",
    "\n",
    "# Code to make a plot bigger\n",
    "plt.rcParams[\"figure.figsize\"] = 12, 9 # Makes the plot bigger\n",
    "plt.rcParams.update({'font.size' : 18}) # Makes the plot text bigger\n",
    "\n",
    "# Plot\n",
    "AwardsByYear.plot.line(lw=4)\n",
    "plt.title(\"Awards by Year\")\n",
    "plt.xlabel(\"Year the Award Started\")\n",
    "plt.ylabel(\"Number of Awards\")"
   ]
  },
  {
   "cell_type": "markdown",
   "metadata": {},
   "source": [
    "### Checking Institutions that got an award but not a CAREER"
   ]
  },
  {
   "cell_type": "code",
   "execution_count": 17,
   "metadata": {},
   "outputs": [
    {
     "data": {
      "text/plain": [
       "['California State University-Dominguez Hills Foundation',\n",
       " 'Franklin W. Olin College of Engineering',\n",
       " 'University of Houston - Clear Lake',\n",
       " 'University of Minnesota Duluth',\n",
       " 'University of Massachusetts Boston',\n",
       " 'Bucknell University',\n",
       " 'University Enterprises, Incorporated',\n",
       " 'San Diego State University Foundation',\n",
       " 'Florida Atlantic University',\n",
       " 'BBN Systems & Technologies Corporation',\n",
       " 'Saint Louis University',\n",
       " 'Corporation for Education Network Initiatives in California',\n",
       " 'Chicago Zoological Society',\n",
       " 'Electrical and Computer Engineering Department Heads Association',\n",
       " 'Research Foundation Of The City University Of New York (Lehman)',\n",
       " 'University of Missouri-Kansas City',\n",
       " 'University of Mississippi',\n",
       " 'Texas Tech University',\n",
       " 'University of Colorado at Denver-Downtown Campus',\n",
       " 'Henry M Jackson Fdn for Advmt of Military Medicine',\n",
       " 'Institute of Electrical & Electronics Engineers, Inc.',\n",
       " 'South Dakota State University',\n",
       " 'College of William and Mary',\n",
       " 'Texas A&M University-Commerce',\n",
       " 'Rutgers, The State University of New Jersey-RBHS-Robert Wood',\n",
       " 'University of Missouri-Columbia',\n",
       " 'Denison University',\n",
       " 'Palo Alto Research Center Incorporated',\n",
       " 'Florida Institute of Technology',\n",
       " 'Louisiana State University',\n",
       " 'Ball State University',\n",
       " 'Florida State University',\n",
       " 'Brigham Young University',\n",
       " 'Dakota State University',\n",
       " 'National Academy of Sciences',\n",
       " 'Educause',\n",
       " 'University of Denver',\n",
       " 'South Dakota School of Mines and Technology',\n",
       " 'Polytechnic University of New York',\n",
       " 'Franklin and Marshall College',\n",
       " 'Argon ST Network Systems',\n",
       " 'Kennesaw State University Research and Service Foundation',\n",
       " 'North Dakota State University Fargo',\n",
       " 'University of Wisconsin-Whitewater',\n",
       " 'University of Cincinnati Main Campus',\n",
       " 'Santa Clara University',\n",
       " 'Complex Communications Research, Inc',\n",
       " 'New Mexico Consortium',\n",
       " 'University of North Texas',\n",
       " 'Appalachian State University',\n",
       " 'Oklahoma State University',\n",
       " 'SRI International',\n",
       " 'Lehigh University',\n",
       " 'University of San Francisco',\n",
       " 'University of Kansas Center for Research Inc',\n",
       " 'Air Force Institute of Tech',\n",
       " 'Mozilla Foundation',\n",
       " 'Raytheon BBN Technologies Corp.',\n",
       " 'Georgetown University',\n",
       " 'University of Hawaii',\n",
       " 'Clarkson University',\n",
       " 'Fordham University',\n",
       " 'MCNC',\n",
       " 'University of Texas at Dallas',\n",
       " 'New York Institute of Technology',\n",
       " 'Corporation for National Research Initiatives (NRI)',\n",
       " 'Manhattan College',\n",
       " 'Northern Arizona University',\n",
       " 'The Software Defined Radio Forum Inc.',\n",
       " 'Virginia Commonwealth University',\n",
       " 'Wichita State University',\n",
       " 'Research Triangle Institute',\n",
       " 'Wellesley College',\n",
       " 'California Institute of Technology',\n",
       " 'Washington University',\n",
       " 'International Computer Science Institute',\n",
       " 'Marquette University',\n",
       " 'University of Delaware',\n",
       " 'Tufts University',\n",
       " 'University of Arkansas Little Rock',\n",
       " 'Texas Christian University',\n",
       " 'California State University-Fresno Foundation',\n",
       " 'University of Missouri-Saint Louis',\n",
       " 'Norfolk State University',\n",
       " 'Computing Research Association',\n",
       " 'New Mexico State University',\n",
       " 'Nokia of America Corporation',\n",
       " 'University of Southern Mississippi',\n",
       " 'CUNY Brooklyn College',\n",
       " 'University of Colorado at Colorado Springs',\n",
       " 'University of Oklahoma Norman Campus',\n",
       " 'University of Massachusetts, Dartmouth',\n",
       " 'Lamar University',\n",
       " 'University of Vermont & State Agricultural College',\n",
       " 'USENIX Association',\n",
       " 'Idaho State University',\n",
       " 'University of Puerto Rico Mayaguez',\n",
       " 'Oakland University',\n",
       " 'University of Georgia Research Foundation Inc',\n",
       " 'CUNY College of Staten Island',\n",
       " 'Wesleyan University',\n",
       " 'Towson University',\n",
       " 'Southern Illinois University at Carbondale',\n",
       " 'Clemson University',\n",
       " 'University of Arkansas',\n",
       " 'Wake Forest University',\n",
       " 'Naval Postgraduate School',\n",
       " 'University of Nebraska at Omaha',\n",
       " 'The University of Central Florida Board of Trustees',\n",
       " 'Azusa Pacific University',\n",
       " 'Trustees of Boston University',\n",
       " 'Kennesaw State University',\n",
       " 'Drexel University',\n",
       " 'Colorado School of Mines',\n",
       " 'University of Akron',\n",
       " 'Oral Roberts University',\n",
       " 'Tulane University',\n",
       " 'Claremont Graduate University',\n",
       " 'Texas State University - San Marcos',\n",
       " 'University of Wisconsin-Milwaukee',\n",
       " 'INTERNET2',\n",
       " 'Mitre Corporation Virginia',\n",
       " 'University of Memphis',\n",
       " 'University of Kentucky Research Foundation']"
      ]
     },
     "execution_count": 17,
     "metadata": {},
     "output_type": "execute_result"
    }
   ],
   "source": [
    "# The code below looks at which organizations are represented in the list of all awards\n",
    "# but NOT in the list of just CAREER awards\n",
    "list(set(Awards['Organization']) - set(AwardsCAREER['Organization']))"
   ]
  },
  {
   "cell_type": "code",
   "execution_count": null,
   "metadata": {},
   "outputs": [],
   "source": []
  }
 ],
 "metadata": {
  "kernelspec": {
   "display_name": "Python 3",
   "language": "python",
   "name": "python3"
  },
  "language_info": {
   "codemirror_mode": {
    "name": "ipython",
    "version": 3
   },
   "file_extension": ".py",
   "mimetype": "text/x-python",
   "name": "python",
   "nbconvert_exporter": "python",
   "pygments_lexer": "ipython3",
   "version": "3.8.3"
  }
 },
 "nbformat": 4,
 "nbformat_minor": 4
}
